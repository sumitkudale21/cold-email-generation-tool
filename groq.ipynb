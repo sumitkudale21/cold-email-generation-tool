{
 "cells": [
  {
   "cell_type": "code",
   "execution_count": 1,
   "metadata": {},
   "outputs": [
    {
     "name": "stdout",
     "output_type": "stream",
     "text": [
      "Iron Man is a fictional superhero appearing in American comic books published by Marvel Comics. He is one of the most iconic and popular superheroes in the Marvel Universe.\n",
      "\n",
      "Iron Man's real name is Anthony Stark, also known as Tony Stark. He is a billionaire inventor, industrialist, and philanthropist who created a powered exoskeleton suit to save his life and later used it to fight crime and protect the world.\n",
      "\n",
      "The character was created by writer and editor Stan Lee, along with artists Don Heck and Jack Kirby, and first appeared in the comic book \"Tales of Suspense\" #39 in March 1963.\n",
      "\n",
      "Tony Stark, a brilliant engineer and entrepreneur, was kidnapped by terrorists who demanded that he build a powerful missile system for them. Instead, Stark secretly built the first Iron Man suit, a powered exoskeleton that allowed him to escape and later fight against evil.\n",
      "\n",
      "Over time, Stark refined the suit, adding advanced technologies such as repulsor technology, flight capabilities, and a sophisticated AI system called JARVIS (Just A Rather Very Intelligent System). He also became a founding member of the Avengers, a team of superheroes dedicated to protecting the world from threats too great for any one hero to face alone.\n",
      "\n",
      "Iron Man's powers and abilities include:\n",
      "\n",
      "* Superhuman strength and durability thanks to the suit's advanced materials and technologies\n",
      "* Flight capabilities\n",
      "* Energy projection and repulsor technology\n",
      "* Advanced sensors and scanning technology\n",
      "* Genius-level intellect and strategic thinking\n",
      "\n",
      "In the Marvel Cinematic Universe (MCU), Iron Man is portrayed by actor Robert Downey Jr. in multiple movies, including:\n",
      "\n",
      "* Iron Man (2008)\n",
      "* The Incredible Hulk (2008) - cameo\n",
      "* Iron Man 2 (2010)\n",
      "* The Avengers (2012)\n",
      "* Iron Man 3 (2013)\n",
      "* Avengers: Age of Ultron (2015)\n",
      "* Captain America: Civil War (2016)\n",
      "* Spider-Man: Homecoming (2017) - cameo\n",
      "* Avengers: Infinity War (2018)\n",
      "* Avengers: Endgame (2019)\n",
      "\n",
      "Iron Man's legacy extends beyond the comics and movies, inspiring countless fans around the world with his intelligence, wit, and heroism.\n"
     ]
    }
   ],
   "source": [
    "from langchain_groq import ChatGroq\n",
    "\n",
    "llm = ChatGroq(\n",
    "    model=\"llama-3.1-70b-versatile\",\n",
    "    temperature=0,\n",
    "    groq_api_key=\"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\"\n",
    ")\n",
    "response = llm.invoke(\"who is iron-man\")\n",
    "print(response.content)"
   ]
  },
  {
   "cell_type": "code",
   "execution_count": null,
   "metadata": {},
   "outputs": [],
   "source": []
  }
 ],
 "metadata": {
  "kernelspec": {
   "display_name": "Python 3",
   "language": "python",
   "name": "python3"
  },
  "language_info": {
   "codemirror_mode": {
    "name": "ipython",
    "version": 3
   },
   "file_extension": ".py",
   "mimetype": "text/x-python",
   "name": "python",
   "nbconvert_exporter": "python",
   "pygments_lexer": "ipython3",
   "version": "3.12.0"
  }
 },
 "nbformat": 4,
 "nbformat_minor": 2
}
