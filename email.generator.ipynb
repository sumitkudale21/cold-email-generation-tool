{
 "cells": [
  {
   "cell_type": "code",
   "execution_count": 5,
   "metadata": {},
   "outputs": [
    {
     "data": {
      "text/html": [
       "<style>.container { width:100% !important; }</style>"
      ],
      "text/plain": [
       "<IPython.core.display.HTML object>"
      ]
     },
     "metadata": {},
     "output_type": "display_data"
    }
   ],
   "source": [
    "from IPython.display import display, HTML\n",
    "display(HTML(\"<style>.container { width:100% !important; }</style>\"))\n"
   ]
  },
  {
   "cell_type": "code",
   "execution_count": 6,
   "metadata": {},
   "outputs": [
    {
     "name": "stdout",
     "output_type": "stream",
     "text": [
      "Iron Man is a fictional superhero appearing in American comic books published by Marvel Comics. He is one of the most iconic and popular superheroes in the Marvel Universe.\n",
      "\n",
      "Iron Man's real name is Anthony Stark, also known as Tony Stark. He is a billionaire inventor, industrialist, and philanthropist who created a powered exoskeleton suit to save his life and later used it to fight crime and protect the world.\n",
      "\n",
      "The character was created by writer and editor Stan Lee, along with artists Don Heck and Jack Kirby, and first appeared in the comic book \"Tales of Suspense\" #39 in March 1963.\n",
      "\n",
      "Tony Stark, a brilliant engineer and entrepreneur, was kidnapped by terrorists who demanded that he build a powerful missile system for them. Instead, Stark secretly built the first Iron Man suit, a powered exoskeleton that allowed him to escape and later fight against evil.\n",
      "\n",
      "Over time, Stark refined the suit, adding advanced technologies such as repulsor technology, flight capabilities, and a sophisticated AI system called JARVIS (Just A Rather Very Intelligent System). He also became a founding member of the Avengers, a team of superheroes dedicated to protecting the world from threats too great for any one hero to face alone.\n",
      "\n",
      "Iron Man's powers and abilities include:\n",
      "\n",
      "* Superhuman strength and durability thanks to the suit's advanced materials and technologies\n",
      "* Flight capabilities\n",
      "* Energy projection and repulsor technology\n",
      "* Advanced sensors and scanning technology\n",
      "* Genius-level intellect and strategic thinking\n",
      "\n",
      "In the Marvel Cinematic Universe (MCU), Iron Man is portrayed by actor Robert Downey Jr. in multiple movies, including:\n",
      "\n",
      "* Iron Man (2008)\n",
      "* The Incredible Hulk (2008) - cameo\n",
      "* Iron Man 2 (2010)\n",
      "* The Avengers (2012)\n",
      "* Iron Man 3 (2013)\n",
      "* Avengers: Age of Ultron (2015)\n",
      "* Captain America: Civil War (2016)\n",
      "* Spider-Man: Homecoming (2017) - cameo\n",
      "* Avengers: Infinity War (2018)\n",
      "* Avengers: Endgame (2019)\n",
      "\n",
      "Iron Man's legacy extends beyond the comics and movies, inspiring countless fans around the world with his intelligence, wit, and heroism.\n"
     ]
    }
   ],
   "source": [
    "from langchain_groq import ChatGroq\n",
    "\n",
    "llm = ChatGroq(\n",
    "    model=\"llama-3.1-70b-versatile\",\n",
    "    temperature=0,\n",
    "    groq_api_key=\"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\"\n",
    ")\n",
    "response = llm.invoke(\"who is iron-man\")\n",
    "print(response.content) "
   ]
  },
  {
   "cell_type": "code",
   "execution_count": 7,
   "metadata": {},
   "outputs": [
    {
     "name": "stdout",
     "output_type": "stream",
     "text": [
      "Apply for Lead Data Engineer\n",
      "\n",
      "Search JobsSkip navigationSearch JobsNIKE, INC. JOBSContract JobsJoin The Talent CommunityLife @ NikeOverviewBenefitsBrandsOverviewJordanConverseTeamsOverviewAdministrative SupportAdvanced InnovationAir Manufacturing InnovationAviationCommunicationsCustomer ServiceDesignDigitalFacilitiesFinance & AccountingGovernment & Public AffairsHuman ResourcesInsights & AnalyticsLegalManufacturing & EngineeringMarketingMerchandisingPlanningPrivacyProcurementProduct Creation, Development & ManagementRetail CorporateRetail StoresSalesSocial & Community ImpactSports MarketingStrategic PlanningSupply Chain, Distribution & LogisticsSustainabilityTechnologyLocationsOverviewNike WHQNike New York HQEHQ: Hilversum, The NetherlandsELC: Laakdal, BelgiumGreater China HQDiversity, Equity & InclusionOverviewMilitary InclusionDisability InclusionIndigenous InclusionInternshipsData & AnalyticsLead Data EngineerKarnataka, IndiaBecome a Part of the NIKE, Inc. Team\n",
      "NIKE, Inc. does more than outfit the world’s best athletes. It is a place to explore potential, obliterate boundaries and push out the edges of what can be. The company looks for people who can grow, think, dream and create. Its culture thrives by embracing diversity and rewarding imagination. The brand seeks achievers, leaders and visionaries. At NIKE, Inc. it’s about each person bringing skills and passion to a challenging and constantly evolving game.WHO ARE WE LOOKING FORWe are looking for a Lead Data  Platform Engineer who excels in team environments and are excited about building cloud native platforms that can scale with the demand of our business. This role is part of Enterprise Architecture and Developer Experience aggressively innovates solutions to drive growth while creating and implementing tools that help make everything else in the company possible. The candidate needs to have a strong understanding of technical concepts, excellent attention to detail, data accuracy, and data analysis, strong verbal and written communication skills, and be self-motivated and operates with a high sense of urgency and a high level of integrity.WHAT WILL YOU WORK ONEvangelize and cultivate adoption of GPaaS, open source software and agile principles within the organizationDeveloping and Implementing Inhouse SolutionsEnsure solutions are designed and developed using a scalable, highly resilient cloud native architectureDeliver well-documented and well-tested code, and participate in peer code reviewsDesign and develop tools and frameworks to improve security, reliability, maintainability, availability and performance for the technology foundation of our platformEnsure product and technical features are delivered to spec and on-timeCollaborate with and consult other Nike development teams, architecture teams etc.Explain designs and constraints to stakeholders and technical teams, gather alignment and buy-inProvide responsive support and operations for the platforms you help build.Work with product management to support product / service scoping activitiesWork with leadership to define delivery schedules of key features through an agile frameworkBe a key contributor to overall architecture, framework and design of GPaaSWHO WILL YOU WORK WITHThis role is part of the Global PaaS and work with Advanced Computing teamWHAT YOU BRING Minimum 8+ years of working experience in designing and building production grade Microservices in any programming languages preferably  in Python Extensive Experience in Big Data Technologies - Databricks, EMR’s and Other Cloud Compute ToolsMust have Experience in AWS web Services (like EC2, RDS, Lambda, S3, LoadBalancer, ECS, EKS etc). Experience Building end to end CI/CD pipeline to build, test and deploy to different AWS environments such as lambda, EC2,ECS , EKS etc.Familiarity with software engineering best practices – including unit tests, code review, version control, production monitoring, etc.Strong Experience on Jenkins, Terraform, Docker, Kubernetes etc.,Strong understanding of OOP Concepts, Data Structures and Design Patterns.Strong understanding of Web Services, Caching, Scalability, REST Principles.Have knowledge of databases like Databricks SQL, Trino, MySQL, Postgresql etc.Good Knowledge of computer science fundamentalsExperience with different services of AWS.Ability to work independently in a fast paced and agile development environment.Keen to explore new technologies.Knowledge of Data GovernanceNIKE, Inc. is a growth company that looks for team members to grow with it. Nike offers a generous total rewards package, casual work environment, a diverse and inclusive culture, and an electric atmosphere for professional development. No matter the location, or the role, every Nike employee shares one galvanizing mission: To bring inspiration and innovation to every athlete* in the world.NIKE, Inc. is committed to employing a diverse workforce. Qualified applicants will receive consideration without regard to race, color, religion, sex, national origin, age, sexual orientation, gender identity, gender expression, veteran status, or disability.How We HireAt NIKE, Inc. we promise to provide a premium, inclusive, compelling and authentic candidate experience. Delivering on this promise means we allow you to be at your best — and to do that, you need to understand how the hiring process works. Transparency is key.\n",
      "\n",
      "* This overview explains our hiring process for corporate roles. Note there may be different hiring steps involved for non-corporate roles.Start nowBenefitsWhether it’s transportation or financial health, we continually invest in our employees to help them achieve greatness — inside and outside of work. All who work here should be able to realize their full potential.Employee Assistance ProgramHolidaysMedical PlanPaid Time Off (PTO)Product DiscountsLearn moreFIND A STOREBECOME A MEMBERSIGN UP FOR EMAILSEND US FEEDBACKSTUDENT DISCOUNTSGET HELPGET HELPOrder StatusDeliveryReturnsPayment OptionsContact Us On Nike.com InquiriesContact Us On All Other InquiriesABOUT NIKEABOUT NIKENewsCareersInvestorsSustainabilityIndia© 2024 Nike, Inc. All Rights ReservedGuidesNike AdaptNike Air MaxNike FlyleatherNike PegasusNike Zoom FlyNike AirNike FlyEaseNike FreeNike ReactNike ZoomXNike Air Force 1Nike FlyknitNike JoyrideNike VaporflyTerms of SaleTerms of UseNike Privacy Policy\n"
     ]
    }
   ],
   "source": [
    "\n",
    "from langchain_community.document_loaders import WebBaseLoader\n",
    "\n",
    "loader = WebBaseLoader(\"https://jobs.nike.com/job/R-34832\")\n",
    "page_data = loader.load().pop().page_content\n",
    "print(page_data)"
   ]
  },
  {
   "cell_type": "code",
   "execution_count": 14,
   "metadata": {},
   "outputs": [
    {
     "name": "stdout",
     "output_type": "stream",
     "text": [
      "```json\n",
      "{\n",
      "  \"role\": \"Lead Data Engineer\",\n",
      "  \"experience\": \"Minimum 8+ years of working experience in designing and building production grade Microservices\",\n",
      "  \"skills\": [\n",
      "    \"Python\",\n",
      "    \"Big Data Technologies - Databricks, EMR’s and Other Cloud Compute Tools\",\n",
      "    \"AWS web Services (like EC2, RDS, Lambda, S3, LoadBalancer, ECS, EKS etc.)\",\n",
      "    \"CI/CD pipeline\",\n",
      "    \"Jenkins\",\n",
      "    \"Terraform\",\n",
      "    \"Docker\",\n",
      "    \"Kubernetes\",\n",
      "    \"OOP Concepts\",\n",
      "    \"Data Structures\",\n",
      "    \"Design Patterns\",\n",
      "    \"Web Services\",\n",
      "    \"Caching\",\n",
      "    \"Scalability\",\n",
      "    \"REST Principles\",\n",
      "    \"Databases like Databricks SQL, Trino, MySQL, Postgresql etc.\",\n",
      "    \"Data Governance\"\n",
      "  ],\n",
      "  \"description\": \"We are looking for a Lead Data Platform Engineer who excels in team environments and are excited about building cloud native platforms that can scale with the demand of our business. This role is part of Enterprise Architecture and Developer Experience aggressively innovates solutions to drive growth while creating and implementing tools that help make everything else in the company possible.\"\n",
      "}\n",
      "```\n"
     ]
    }
   ],
   "source": [
    "from langchain_core.prompts import PromptTemplate\n",
    "\n",
    "prompt_extract = PromptTemplate.from_template(\n",
    "     \"\"\"\n",
    "        ### SCRAPED TEXT FROM WEBSITE:\n",
    "        {page_data}\n",
    "        ### INSTRUCTION:\n",
    "        The scraped text is from the career's page of a website.\n",
    "        Your job is to extract the job postings and return them in JSON format containing the \n",
    "        following keys: `role`, `experience`, `skills` and `description`.\n",
    "        Only return the valid JSON.\n",
    "        ### VALID JSON (NO PREAMBLE):    \n",
    "        \"\"\"\n",
    "    )\n",
    "\n",
    "chain_extract = prompt_extract | llm\n",
    "res = chain_extract.invoke(input={'page_data': page_data})\n",
    "print(res.content)"
   ]
  },
  {
   "cell_type": "code",
   "execution_count": 29,
   "metadata": {},
   "outputs": [
    {
     "data": {
      "text/plain": [
       "{'role': 'Lead Data Engineer',\n",
       " 'experience': 'Minimum 8+ years of working experience in designing and building production grade Microservices',\n",
       " 'skills': ['Python',\n",
       "  'Big Data Technologies - Databricks, EMR’s and Other Cloud Compute Tools',\n",
       "  'AWS web Services (like EC2, RDS, Lambda, S3, LoadBalancer, ECS, EKS etc.)',\n",
       "  'CI/CD pipeline',\n",
       "  'Jenkins',\n",
       "  'Terraform',\n",
       "  'Docker',\n",
       "  'Kubernetes',\n",
       "  'OOP Concepts',\n",
       "  'Data Structures',\n",
       "  'Design Patterns',\n",
       "  'Web Services',\n",
       "  'Caching',\n",
       "  'Scalability',\n",
       "  'REST Principles',\n",
       "  'Databases like Databricks SQL, Trino, MySQL, Postgresql etc.',\n",
       "  'Data Governance'],\n",
       " 'description': 'We are looking for a Lead Data Platform Engineer who excels in team environments and are excited about building cloud native platforms that can scale with the demand of our business. This role is part of Enterprise Architecture and Developer Experience aggressively innovates solutions to drive growth while creating and implementing tools that help make everything else in the company possible.'}"
      ]
     },
     "execution_count": 29,
     "metadata": {},
     "output_type": "execute_result"
    }
   ],
   "source": [
    "from langchain_core.output_parsers import JsonOutputParser\n",
    "json_parser = JsonOutputParser()\n",
    "json_responce = json_parser.parse(res.content)\n",
    "json_responce"
   ]
  },
  {
   "cell_type": "code",
   "execution_count": 17,
   "metadata": {},
   "outputs": [
    {
     "data": {
      "text/plain": [
       "dict"
      ]
     },
     "execution_count": 17,
     "metadata": {},
     "output_type": "execute_result"
    }
   ],
   "source": [
    "type(json_responce)"
   ]
  },
  {
   "cell_type": "code",
   "execution_count": 18,
   "metadata": {},
   "outputs": [
    {
     "data": {
      "text/html": [
       "<div>\n",
       "<style scoped>\n",
       "    .dataframe tbody tr th:only-of-type {\n",
       "        vertical-align: middle;\n",
       "    }\n",
       "\n",
       "    .dataframe tbody tr th {\n",
       "        vertical-align: top;\n",
       "    }\n",
       "\n",
       "    .dataframe thead th {\n",
       "        text-align: right;\n",
       "    }\n",
       "</style>\n",
       "<table border=\"1\" class=\"dataframe\">\n",
       "  <thead>\n",
       "    <tr style=\"text-align: right;\">\n",
       "      <th></th>\n",
       "      <th>Techstack</th>\n",
       "      <th>Links</th>\n",
       "    </tr>\n",
       "  </thead>\n",
       "  <tbody>\n",
       "    <tr>\n",
       "      <th>0</th>\n",
       "      <td>React, Node.js, MongoDB</td>\n",
       "      <td>https://example.com/react-portfolio</td>\n",
       "    </tr>\n",
       "    <tr>\n",
       "      <th>1</th>\n",
       "      <td>Angular,.NET, SQL Server</td>\n",
       "      <td>https://example.com/angular-portfolio</td>\n",
       "    </tr>\n",
       "    <tr>\n",
       "      <th>2</th>\n",
       "      <td>Vue.js, Ruby on Rails, PostgreSQL</td>\n",
       "      <td>https://example.com/vue-portfolio</td>\n",
       "    </tr>\n",
       "    <tr>\n",
       "      <th>3</th>\n",
       "      <td>Python, Django, MySQL</td>\n",
       "      <td>https://example.com/python-portfolio</td>\n",
       "    </tr>\n",
       "    <tr>\n",
       "      <th>4</th>\n",
       "      <td>Java, Spring Boot, Oracle</td>\n",
       "      <td>https://example.com/java-portfolio</td>\n",
       "    </tr>\n",
       "    <tr>\n",
       "      <th>5</th>\n",
       "      <td>Flutter, Firebase, GraphQL</td>\n",
       "      <td>https://example.com/flutter-portfolio</td>\n",
       "    </tr>\n",
       "    <tr>\n",
       "      <th>6</th>\n",
       "      <td>WordPress, PHP, MySQL</td>\n",
       "      <td>https://example.com/wordpress-portfolio</td>\n",
       "    </tr>\n",
       "    <tr>\n",
       "      <th>7</th>\n",
       "      <td>Magento, PHP, MySQL</td>\n",
       "      <td>https://example.com/magento-portfolio</td>\n",
       "    </tr>\n",
       "    <tr>\n",
       "      <th>8</th>\n",
       "      <td>React Native, Node.js, MongoDB</td>\n",
       "      <td>https://example.com/react-native-portfolio</td>\n",
       "    </tr>\n",
       "    <tr>\n",
       "      <th>9</th>\n",
       "      <td>iOS, Swift, Core Data</td>\n",
       "      <td>https://example.com/ios-portfolio</td>\n",
       "    </tr>\n",
       "    <tr>\n",
       "      <th>10</th>\n",
       "      <td>Android, Java, Room Persistence</td>\n",
       "      <td>https://example.com/android-portfolio</td>\n",
       "    </tr>\n",
       "    <tr>\n",
       "      <th>11</th>\n",
       "      <td>Kotlin, Android, Firebase</td>\n",
       "      <td>https://example.com/kotlin-android-portfolio</td>\n",
       "    </tr>\n",
       "    <tr>\n",
       "      <th>12</th>\n",
       "      <td>Android TV, Kotlin, Android NDK</td>\n",
       "      <td>https://example.com/android-tv-portfolio</td>\n",
       "    </tr>\n",
       "    <tr>\n",
       "      <th>13</th>\n",
       "      <td>iOS, Swift, ARKit</td>\n",
       "      <td>https://example.com/ios-ar-portfolio</td>\n",
       "    </tr>\n",
       "    <tr>\n",
       "      <th>14</th>\n",
       "      <td>Cross-platform, Xamarin, Azure</td>\n",
       "      <td>https://example.com/xamarin-portfolio</td>\n",
       "    </tr>\n",
       "    <tr>\n",
       "      <th>15</th>\n",
       "      <td>Backend, Kotlin, Spring Boot</td>\n",
       "      <td>https://example.com/kotlin-backend-portfolio</td>\n",
       "    </tr>\n",
       "    <tr>\n",
       "      <th>16</th>\n",
       "      <td>Frontend, TypeScript, Angular</td>\n",
       "      <td>https://example.com/typescript-frontend-portfolio</td>\n",
       "    </tr>\n",
       "    <tr>\n",
       "      <th>17</th>\n",
       "      <td>Full-stack, JavaScript, Express.js</td>\n",
       "      <td>https://example.com/full-stack-js-portfolio</td>\n",
       "    </tr>\n",
       "    <tr>\n",
       "      <th>18</th>\n",
       "      <td>Machine Learning, Python, TensorFlow</td>\n",
       "      <td>https://example.com/ml-python-portfolio</td>\n",
       "    </tr>\n",
       "    <tr>\n",
       "      <th>19</th>\n",
       "      <td>DevOps, Jenkins, Docker</td>\n",
       "      <td>https://example.com/devops-portfolio</td>\n",
       "    </tr>\n",
       "  </tbody>\n",
       "</table>\n",
       "</div>"
      ],
      "text/plain": [
       "                               Techstack  \\\n",
       "0                React, Node.js, MongoDB   \n",
       "1               Angular,.NET, SQL Server   \n",
       "2      Vue.js, Ruby on Rails, PostgreSQL   \n",
       "3                  Python, Django, MySQL   \n",
       "4              Java, Spring Boot, Oracle   \n",
       "5             Flutter, Firebase, GraphQL   \n",
       "6                  WordPress, PHP, MySQL   \n",
       "7                    Magento, PHP, MySQL   \n",
       "8         React Native, Node.js, MongoDB   \n",
       "9                  iOS, Swift, Core Data   \n",
       "10       Android, Java, Room Persistence   \n",
       "11             Kotlin, Android, Firebase   \n",
       "12       Android TV, Kotlin, Android NDK   \n",
       "13                     iOS, Swift, ARKit   \n",
       "14        Cross-platform, Xamarin, Azure   \n",
       "15          Backend, Kotlin, Spring Boot   \n",
       "16         Frontend, TypeScript, Angular   \n",
       "17    Full-stack, JavaScript, Express.js   \n",
       "18  Machine Learning, Python, TensorFlow   \n",
       "19               DevOps, Jenkins, Docker   \n",
       "\n",
       "                                                Links  \n",
       "0                 https://example.com/react-portfolio  \n",
       "1               https://example.com/angular-portfolio  \n",
       "2                   https://example.com/vue-portfolio  \n",
       "3                https://example.com/python-portfolio  \n",
       "4                  https://example.com/java-portfolio  \n",
       "5               https://example.com/flutter-portfolio  \n",
       "6             https://example.com/wordpress-portfolio  \n",
       "7               https://example.com/magento-portfolio  \n",
       "8          https://example.com/react-native-portfolio  \n",
       "9                   https://example.com/ios-portfolio  \n",
       "10              https://example.com/android-portfolio  \n",
       "11       https://example.com/kotlin-android-portfolio  \n",
       "12           https://example.com/android-tv-portfolio  \n",
       "13               https://example.com/ios-ar-portfolio  \n",
       "14              https://example.com/xamarin-portfolio  \n",
       "15       https://example.com/kotlin-backend-portfolio  \n",
       "16  https://example.com/typescript-frontend-portfolio  \n",
       "17        https://example.com/full-stack-js-portfolio  \n",
       "18            https://example.com/ml-python-portfolio  \n",
       "19               https://example.com/devops-portfolio  "
      ]
     },
     "execution_count": 18,
     "metadata": {},
     "output_type": "execute_result"
    }
   ],
   "source": [
    "import pandas as pd\n",
    "df = pd.read_csv('my_portfolio.csv')\n",
    "df"
   ]
  },
  {
   "cell_type": "code",
   "execution_count": 21,
   "metadata": {},
   "outputs": [],
   "source": [
    "import chromadb\n",
    "import uuid\n",
    "client = chromadb.PersistentClient('Vectorstore')\n",
    "collection = client.get_or_create_collection(name='portfolio')\n",
    "\n",
    "if not collection.count():\n",
    "    for _, row in df.iterrows():\n",
    "        collection.add(documents=row['Techstack'],\n",
    "                       metadatas={'links': row['Links']},\n",
    "                       ids=[str(uuid.uuid4())])"
   ]
  },
  {
   "cell_type": "code",
   "execution_count": 26,
   "metadata": {},
   "outputs": [
    {
     "data": {
      "text/plain": [
       "{'ids': [['2796c6d3-17fe-4ee9-a3a8-a2d884cfc76e',\n",
       "   '9510389c-4414-4787-9607-2ad3ca012268'],\n",
       "  ['679dae86-a2bf-4473-b016-87c81a369f7b',\n",
       "   '455d111d-16a0-4566-9058-7ddbdc46abd6']],\n",
       " 'distances': [[1.0862322998041076, 1.1617181510147703],\n",
       "  [1.0023386962742193, 1.149675184849096]],\n",
       " 'metadatas': [[{'links': 'https://example.com/java-portfolio'},\n",
       "   {'links': 'https://example.com/android-portfolio'}],\n",
       "  [{'links': 'https://example.com/ml-python-portfolio'},\n",
       "   {'links': 'https://example.com/python-portfolio'}]],\n",
       " 'embeddings': None,\n",
       " 'documents': [['Java, Spring Boot, Oracle',\n",
       "   'Android, Java, Room Persistence'],\n",
       "  ['Machine Learning, Python, TensorFlow', 'Python, Django, MySQL']],\n",
       " 'uris': None,\n",
       " 'data': None,\n",
       " 'included': ['metadatas', 'documents', 'distances']}"
      ]
     },
     "execution_count": 26,
     "metadata": {},
     "output_type": "execute_result"
    }
   ],
   "source": [
    "links = collection.query(query_texts=[\"experience in java\", \"experties in python\"], n_results=2)\n",
    "links"
   ]
  },
  {
   "cell_type": "code",
   "execution_count": 30,
   "metadata": {},
   "outputs": [
    {
     "data": {
      "text/plain": [
       "['Python',\n",
       " 'Big Data Technologies - Databricks, EMR’s and Other Cloud Compute Tools',\n",
       " 'AWS web Services (like EC2, RDS, Lambda, S3, LoadBalancer, ECS, EKS etc.)',\n",
       " 'CI/CD pipeline',\n",
       " 'Jenkins',\n",
       " 'Terraform',\n",
       " 'Docker',\n",
       " 'Kubernetes',\n",
       " 'OOP Concepts',\n",
       " 'Data Structures',\n",
       " 'Design Patterns',\n",
       " 'Web Services',\n",
       " 'Caching',\n",
       " 'Scalability',\n",
       " 'REST Principles',\n",
       " 'Databases like Databricks SQL, Trino, MySQL, Postgresql etc.',\n",
       " 'Data Governance']"
      ]
     },
     "execution_count": 30,
     "metadata": {},
     "output_type": "execute_result"
    }
   ],
   "source": [
    "job = json_responce\n",
    "job['skills']"
   ]
  },
  {
   "cell_type": "code",
   "execution_count": 32,
   "metadata": {},
   "outputs": [
    {
     "data": {
      "text/plain": [
       "[[{'links': 'https://example.com/ml-python-portfolio'},\n",
       "  {'links': 'https://example.com/python-portfolio'}],\n",
       " [{'links': 'https://example.com/flutter-portfolio'},\n",
       "  {'links': 'https://example.com/devops-portfolio'}],\n",
       " [{'links': 'https://example.com/xamarin-portfolio'},\n",
       "  {'links': 'https://example.com/wordpress-portfolio'}],\n",
       " [{'links': 'https://example.com/devops-portfolio'},\n",
       "  {'links': 'https://example.com/magento-portfolio'}],\n",
       " [{'links': 'https://example.com/devops-portfolio'},\n",
       "  {'links': 'https://example.com/kotlin-backend-portfolio'}],\n",
       " [{'links': 'https://example.com/devops-portfolio'},\n",
       "  {'links': 'https://example.com/kotlin-backend-portfolio'}],\n",
       " [{'links': 'https://example.com/devops-portfolio'},\n",
       "  {'links': 'https://example.com/ios-ar-portfolio'}],\n",
       " [{'links': 'https://example.com/devops-portfolio'},\n",
       "  {'links': 'https://example.com/kotlin-backend-portfolio'}],\n",
       " [{'links': 'https://example.com/java-portfolio'},\n",
       "  {'links': 'https://example.com/android-portfolio'}],\n",
       " [{'links': 'https://example.com/ios-portfolio'},\n",
       "  {'links': 'https://example.com/magento-portfolio'}],\n",
       " [{'links': 'https://example.com/android-portfolio'},\n",
       "  {'links': 'https://example.com/flutter-portfolio'}],\n",
       " [{'links': 'https://example.com/wordpress-portfolio'},\n",
       "  {'links': 'https://example.com/magento-portfolio'}],\n",
       " [{'links': 'https://example.com/android-portfolio'},\n",
       "  {'links': 'https://example.com/kotlin-android-portfolio'}],\n",
       " [{'links': 'https://example.com/ml-python-portfolio'},\n",
       "  {'links': 'https://example.com/magento-portfolio'}],\n",
       " [{'links': 'https://example.com/kotlin-backend-portfolio'},\n",
       "  {'links': 'https://example.com/java-portfolio'}],\n",
       " [{'links': 'https://example.com/magento-portfolio'},\n",
       "  {'links': 'https://example.com/wordpress-portfolio'}],\n",
       " [{'links': 'https://example.com/ios-portfolio'},\n",
       "  {'links': 'https://example.com/flutter-portfolio'}]]"
      ]
     },
     "execution_count": 32,
     "metadata": {},
     "output_type": "execute_result"
    }
   ],
   "source": [
    "links = collection.query(query_texts=job['skills'], n_results=2).get('metadatas', [])\n",
    "links"
   ]
  },
  {
   "cell_type": "code",
   "execution_count": 33,
   "metadata": {},
   "outputs": [
    {
     "name": "stdout",
     "output_type": "stream",
     "text": [
      "Subject: Expert Lead Data Engineer Services for Your Business Growth\n",
      "\n",
      "Dear Hiring Manager,\n",
      "\n",
      "I came across your job posting for a Lead Data Engineer and was impressed by the role's focus on building cloud-native platforms that can scale with your business demands. As a Business Development Executive at AtliQ, I'd like to introduce you to our team of experts who excel in designing and building production-grade microservices.\n",
      "\n",
      "At AtliQ, we have a proven track record of empowering numerous enterprises with tailored solutions, fostering scalability, process optimization, cost reduction, and heightened overall efficiency. Our team of skilled engineers has extensive experience in working with technologies like Python, Big Data Technologies (Databricks, EMR's, and Other Cloud Compute Tools), AWS web Services (EC2, RDS, Lambda, S3, LoadBalancer, ECS, EKS, etc.), CI/CD pipeline, Jenkins, Terraform, Docker, Kubernetes, and more.\n",
      "\n",
      "We'd like to highlight a few of our relevant portfolio pieces that demonstrate our expertise in data engineering and cloud-native platforms:\n",
      "\n",
      "* Our expertise in Python and data engineering can be seen in our [Python Portfolio](https://example.com/python-portfolio) and [ML Python Portfolio](https://example.com/ml-python-portfolio).\n",
      "* Our experience in DevOps and cloud-native platforms is showcased in our [DevOps Portfolio](https://example.com/devops-portfolio).\n",
      "\n",
      "Our team is well-versed in OOP Concepts, Data Structures, Design Patterns, Web Services, Caching, Scalability, REST Principles, and Databases like Databricks SQL, Trino, MySQL, Postgresql, etc. We're confident that our expertise aligns with your requirements and would love the opportunity to discuss how we can help you build a scalable and efficient data platform.\n",
      "\n",
      "If you're interested in learning more about our services and how we can help you achieve your business goals, please don't hesitate to reach out. I'd be more than happy to schedule a call to discuss further.\n",
      "\n",
      "Best regards,\n",
      "\n",
      "Mohan\n",
      "Business Development Executive\n",
      "AtliQ\n",
      "[mohan@atliq.com](mailto:mohan@atliq.com)\n"
     ]
    }
   ],
   "source": [
    "prompt_email = PromptTemplate.from_template(\n",
    "        \"\"\"\n",
    "        ### JOB DESCRIPTION:\n",
    "        {job_description}\n",
    "        \n",
    "        ### INSTRUCTION:\n",
    "        You are Mohan, a business development executive at AtliQ. AtliQ is an AI & Software Consulting company dedicated to facilitating\n",
    "        the seamless integration of business processes through automated tools. \n",
    "        Over our experience, we have empowered numerous enterprises with tailored solutions, fostering scalability, \n",
    "        process optimization, cost reduction, and heightened overall efficiency. \n",
    "        Your job is to write a cold email to the client regarding the job mentioned above describing the capability of AtliQ \n",
    "        in fulfilling their needs.\n",
    "        Also add the most relevant ones from the following links to showcase Atliq's portfolio: {link_list}\n",
    "        Remember you are Mohan, BDE at AtliQ. \n",
    "        Do not provide a preamble.\n",
    "        ### EMAIL (NO PREAMBLE):\n",
    "        \n",
    "        \"\"\"\n",
    "        )\n",
    "\n",
    "chain_email = prompt_email | llm\n",
    "res = chain_email.invoke({\"job_description\": str(job), \"link_list\": links})\n",
    "print(res.content)"
   ]
  },
  {
   "cell_type": "code",
   "execution_count": null,
   "metadata": {},
   "outputs": [],
   "source": []
  }
 ],
 "metadata": {
  "kernelspec": {
   "display_name": "Python 3",
   "language": "python",
   "name": "python3"
  },
  "language_info": {
   "codemirror_mode": {
    "name": "ipython",
    "version": 3
   },
   "file_extension": ".py",
   "mimetype": "text/x-python",
   "name": "python",
   "nbconvert_exporter": "python",
   "pygments_lexer": "ipython3",
   "version": "3.12.0"
  }
 },
 "nbformat": 4,
 "nbformat_minor": 2
}
